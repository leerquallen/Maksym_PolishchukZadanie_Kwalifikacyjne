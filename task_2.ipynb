{
 "cells": [
  {
   "cell_type": "code",
   "execution_count": 1,
   "id": "8064c1b4",
   "metadata": {},
   "outputs": [],
   "source": [
    "import pandas as pd"
   ]
  },
  {
   "cell_type": "code",
   "execution_count": 2,
   "id": "af62c440",
   "metadata": {},
   "outputs": [],
   "source": [
    "from pandasql import sqldf"
   ]
  },
  {
   "cell_type": "code",
   "execution_count": 6,
   "id": "0a143983",
   "metadata": {},
   "outputs": [],
   "source": [
    "sample = pd.read_csv(\"sample_supplier.csv\", sep='\\t')\n",
    "result = pd.read_csv(\"task_1_aggregate_quantities.csv\", sep='\\t')"
   ]
  },
  {
   "cell_type": "code",
   "execution_count": 7,
   "id": "c2bdcbbc",
   "metadata": {},
   "outputs": [],
   "source": [
    "price_comparison = sqldf(\"\"\"\n",
    "SELECT r.part_number, r.manufacturer, r.price AS result_price, s.price \n",
    "AS sample_price\n",
    "FROM result r\n",
    "LEFT JOIN sample s\n",
    "ON r.part_number = s.part_number AND r.manufacturer = s.manufacturer\"\"\")"
   ]
  },
  {
   "cell_type": "code",
   "execution_count": 8,
   "id": "5b73d7bd",
   "metadata": {},
   "outputs": [
    {
     "name": "stdout",
     "output_type": "stream",
     "text": [
      "       part_number manufacturer result_price  sample_price\n",
      "0          226 920        LINEX        28,20        692.93\n",
      "1          039 042      SUNSTAR        50,51        531.74\n",
      "2          039 056      SUNSTAR        53,57        697.56\n",
      "3          503 840          EPS        82,69        308.68\n",
      "4          348 649          RMS        48,31        439.29\n",
      "...            ...          ...          ...           ...\n",
      "128229     392 361         None       107,79           NaN\n",
      "128230     401 211         None        58,71           NaN\n",
      "128231     415 474         None        14,21           NaN\n",
      "128232     521 409         None       240,19           NaN\n",
      "128233     623 944         None       116,63           NaN\n",
      "\n",
      "[128234 rows x 4 columns]\n"
     ]
    }
   ],
   "source": [
    "print(price_comparison)"
   ]
  },
  {
   "cell_type": "code",
   "execution_count": 9,
   "id": "061d1647",
   "metadata": {},
   "outputs": [],
   "source": [
    "price_comparison.to_excel(\"price_comparison.xlsx\", index=False)\n",
    "price_comparison.to_csv('price_comparison.csv', index=False)"
   ]
  },
  {
   "cell_type": "code",
   "execution_count": null,
   "id": "2b5ad0cc",
   "metadata": {},
   "outputs": [],
   "source": []
  }
 ],
 "metadata": {
  "kernelspec": {
   "display_name": "Python 3 (ipykernel)",
   "language": "python",
   "name": "python3"
  },
  "language_info": {
   "codemirror_mode": {
    "name": "ipython",
    "version": 3
   },
   "file_extension": ".py",
   "mimetype": "text/x-python",
   "name": "python",
   "nbconvert_exporter": "python",
   "pygments_lexer": "ipython3",
   "version": "3.9.12"
  }
 },
 "nbformat": 4,
 "nbformat_minor": 5
}
